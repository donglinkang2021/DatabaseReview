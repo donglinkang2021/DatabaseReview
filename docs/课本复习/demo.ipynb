{
 "cells": [
  {
   "cell_type": "code",
   "execution_count": 1,
   "metadata": {},
   "outputs": [
    {
     "name": "stdout",
     "output_type": "stream",
     "text": [
      "Copied snippet.md to ./02数据模型\\snippet.md\n",
      "Copied snippet.md to ./03关系数据库\\snippet.md\n",
      "Copied snippet.md to ./04SQL\\snippet.md\n",
      "Copied snippet.md to ./05查询处理和查询优化\\snippet.md\n",
      "Copied snippet.md to ./06数据库的安全性\\snippet.md\n",
      "Copied snippet.md to ./07数据库的完整性\\snippet.md\n",
      "Copied snippet.md to ./08数据库恢复技术\\snippet.md\n",
      "Copied snippet.md to ./09并发控制\\snippet.md\n",
      "Copied snippet.md to ./10关系数据库涉及理论\\snippet.md\n",
      "Copied snippet.md to ./11数据库设计\\snippet.md\n",
      "Copied snippet.md to ./12数据库编程\\snippet.md\n"
     ]
    }
   ],
   "source": [
    "import os\n",
    "import shutil\n",
    "\n",
    "# 指定源文件路径\n",
    "src_file = 'snippet.md'\n",
    "\n",
    "# 指定目标文件夹路径列表\n",
    "dest_folders = ['./02数据模型', './03关系数据库', './04SQL', './05查询处理和查询优化', './06数据库的安全性', './07数据库的完整性', './08数据库恢复技术', './09并发控制', './10关系数据库涉及理论', './11数据库设计', './12数据库编程']\n",
    "\n",
    "# 遍历目标文件夹路径列表，逐个复制源文件到目标文件夹中\n",
    "for dest_folder in dest_folders:\n",
    "    dest_file = os.path.join(dest_folder, os.path.basename(src_file))\n",
    "    shutil.copyfile(src_file, dest_file)\n",
    "    print(f'Copied {src_file} to {dest_file}')"
   ]
  },
  {
   "cell_type": "code",
   "execution_count": null,
   "metadata": {},
   "outputs": [],
   "source": []
  }
 ],
 "metadata": {
  "kernelspec": {
   "display_name": "base",
   "language": "python",
   "name": "python3"
  },
  "language_info": {
   "codemirror_mode": {
    "name": "ipython",
    "version": 3
   },
   "file_extension": ".py",
   "mimetype": "text/x-python",
   "name": "python",
   "nbconvert_exporter": "python",
   "pygments_lexer": "ipython3",
   "version": "3.9.7"
  },
  "orig_nbformat": 4
 },
 "nbformat": 4,
 "nbformat_minor": 2
}
